{
 "cells": [
  {
   "cell_type": "code",
   "execution_count": 37,
   "metadata": {
    "collapsed": true
   },
   "outputs": [],
   "source": [
    "import numpy as np\n",
    "import matplotlib.pyplot as plt\n",
    "%matplotlib inline"
   ]
  },
  {
   "cell_type": "code",
   "execution_count": 38,
   "metadata": {
    "collapsed": false
   },
   "outputs": [],
   "source": [
    "def anos2deci(anos,meses):\n",
    "    anos_decimais = anos + (meses - 1) /12\n",
    "    return anos_decimais"
   ]
  },
  {
   "cell_type": "code",
   "execution_count": 50,
   "metadata": {
    "collapsed": false
   },
   "outputs": [],
   "source": [
    "def dados2graf(arquivo):\n",
    "    dados = np.loadtxt(arquivo,comments='%')\n",
    "    anos = dados[:,0]\n",
    "    meses = dados[:,1]\n",
    "    anos_decimais = anos2deci(anos,meses)\n",
    "    anomalia_temperatura_anual = dados[:,4]\n",
    "    anomalia_temperatura_10anos = np.nan_to_num(dados[:,8])\n",
    "    incerteza_anomalia_temperatura_10anos = np.nan_to_num(dados[:,9])\n",
    "    return(anos_decimais,anomalia_temperatura_anual,anomalia_temperatura_10anos,incerteza_anomalia_temperatura_10anos)"
   ]
  },
  {
   "cell_type": "code",
   "execution_count": 51,
   "metadata": {
    "collapsed": false
   },
   "outputs": [
    {
     "data": {
      "text/plain": [
       "(array([ 1845.        ,  1845.08333333,  1845.16666667, ...,  2013.5       ,\n",
       "         2013.58333333,  2013.66666667]),\n",
       " array([   nan,    nan, -0.872, ...,    nan,    nan,    nan]),\n",
       " array([ 0.,  0.,  0., ...,  0.,  0.,  0.]),\n",
       " array([ 0.,  0.,  0., ...,  0.,  0.,  0.]))"
      ]
     },
     "execution_count": 51,
     "metadata": {},
     "output_type": "execute_result"
    }
   ],
   "source": [
    "dados2graf(\"dados/0.80S-49.02W-TAVG-Trend.txt\")"
   ]
  },
  {
   "cell_type": "code",
   "execution_count": null,
   "metadata": {
    "collapsed": true
   },
   "outputs": [],
   "source": []
  }
 ],
 "metadata": {
  "anaconda-cloud": {},
  "kernelspec": {
   "display_name": "Python [Root]",
   "language": "python",
   "name": "Python [Root]"
  },
  "language_info": {
   "codemirror_mode": {
    "name": "ipython",
    "version": 3
   },
   "file_extension": ".py",
   "mimetype": "text/x-python",
   "name": "python",
   "nbconvert_exporter": "python",
   "pygments_lexer": "ipython3",
   "version": "3.5.2"
  }
 },
 "nbformat": 4,
 "nbformat_minor": 0
}
